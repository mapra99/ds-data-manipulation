{
 "cells": [
  {
   "cell_type": "markdown",
   "id": "6e5cbed2-f2d2-4407-95ca-4226dd0c8f57",
   "metadata": {},
   "source": [
    "# Data Manipulation with Pandas\n",
    "\n",
    "_DataCamp, October 2022_"
   ]
  },
  {
   "cell_type": "markdown",
   "id": "962570cf-5f4e-4d82-91b6-14f10d0f5273",
   "metadata": {},
   "source": [
    "## DataFrames\n",
    "\n",
    "`pandas` is a python library for data manipulation. It is built on top of `numpy` and `matplotlib`, so you can expect a lot of ompatibility features with those two libraries as well.\n",
    "\n",
    "A `DataFrame` is the class that pandas uses to represent tabular data, pretty much like a database table in SQL or a dataframe in R. Tabular data contains observations of the same kind as rows and each observation attribute as columns."
   ]
  },
  {
   "cell_type": "code",
   "execution_count": 1,
   "id": "45f6efc5-3eb1-4e73-853f-c3547900bc0d",
   "metadata": {},
   "outputs": [],
   "source": [
    "import pandas as pd\n",
    "\n",
    "homelessness = pd.read_csv('homelessness.csv')"
   ]
  },
  {
   "cell_type": "markdown",
   "id": "86eeb2d1-6f64-46b7-bc0c-2afa887fa40c",
   "metadata": {},
   "source": [
    "### Inspecting a DataFrame\n",
    "\n",
    "Some important methods that pandas offers to inspect a dataframe to get familiar with it are:\n",
    ".info() shows information on each of the columns, such as the data type and number of missing values.\n",
    ".shape returns the number of rows and columns of the DataFrame.\n",
    ".describe() calculates a few summary statistics for each column."
   ]
  },
  {
   "cell_type": "markdown",
   "id": "4a20798c-a602-4e15-aeca-0951b3445581",
   "metadata": {},
   "source": [
    ".head() returns the first few rows (the “head” of the DataFrame)"
   ]
  },
  {
   "cell_type": "code",
   "execution_count": 2,
   "id": "a1e959d7-e4c2-4975-89a7-5922c82ca806",
   "metadata": {},
   "outputs": [
    {
     "data": {
      "text/html": [
       "<div>\n",
       "<style scoped>\n",
       "    .dataframe tbody tr th:only-of-type {\n",
       "        vertical-align: middle;\n",
       "    }\n",
       "\n",
       "    .dataframe tbody tr th {\n",
       "        vertical-align: top;\n",
       "    }\n",
       "\n",
       "    .dataframe thead th {\n",
       "        text-align: right;\n",
       "    }\n",
       "</style>\n",
       "<table border=\"1\" class=\"dataframe\">\n",
       "  <thead>\n",
       "    <tr style=\"text-align: right;\">\n",
       "      <th></th>\n",
       "      <th>region</th>\n",
       "      <th>state</th>\n",
       "      <th>individuals</th>\n",
       "      <th>family_members</th>\n",
       "      <th>state_pop</th>\n",
       "    </tr>\n",
       "  </thead>\n",
       "  <tbody>\n",
       "    <tr>\n",
       "      <th>0</th>\n",
       "      <td>East South Central</td>\n",
       "      <td>Alabama</td>\n",
       "      <td>2570.0</td>\n",
       "      <td>864.0</td>\n",
       "      <td>4887681</td>\n",
       "    </tr>\n",
       "    <tr>\n",
       "      <th>1</th>\n",
       "      <td>Pacific</td>\n",
       "      <td>Alaska</td>\n",
       "      <td>1434.0</td>\n",
       "      <td>582.0</td>\n",
       "      <td>735139</td>\n",
       "    </tr>\n",
       "    <tr>\n",
       "      <th>2</th>\n",
       "      <td>Mountain</td>\n",
       "      <td>Arizona</td>\n",
       "      <td>7259.0</td>\n",
       "      <td>2606.0</td>\n",
       "      <td>7158024</td>\n",
       "    </tr>\n",
       "    <tr>\n",
       "      <th>3</th>\n",
       "      <td>West South Central</td>\n",
       "      <td>Arkansas</td>\n",
       "      <td>2280.0</td>\n",
       "      <td>432.0</td>\n",
       "      <td>3009733</td>\n",
       "    </tr>\n",
       "    <tr>\n",
       "      <th>4</th>\n",
       "      <td>Pacific</td>\n",
       "      <td>California</td>\n",
       "      <td>109008.0</td>\n",
       "      <td>20964.0</td>\n",
       "      <td>39461588</td>\n",
       "    </tr>\n",
       "  </tbody>\n",
       "</table>\n",
       "</div>"
      ],
      "text/plain": [
       "               region       state  individuals  family_members  state_pop\n",
       "0  East South Central     Alabama       2570.0           864.0    4887681\n",
       "1             Pacific      Alaska       1434.0           582.0     735139\n",
       "2            Mountain     Arizona       7259.0          2606.0    7158024\n",
       "3  West South Central    Arkansas       2280.0           432.0    3009733\n",
       "4             Pacific  California     109008.0         20964.0   39461588"
      ]
     },
     "execution_count": 2,
     "metadata": {},
     "output_type": "execute_result"
    }
   ],
   "source": [
    "homelessness.head()"
   ]
  },
  {
   "cell_type": "markdown",
   "id": "65784c5d-f68f-4f34-a829-e393f0ddf7f1",
   "metadata": {},
   "source": [
    ".info() shows information on each of the columns, such as the data type and number of missing values."
   ]
  },
  {
   "cell_type": "code",
   "execution_count": 3,
   "id": "9564abef-57c6-4339-94ee-8eb7bd41adbd",
   "metadata": {},
   "outputs": [
    {
     "name": "stdout",
     "output_type": "stream",
     "text": [
      "<class 'pandas.core.frame.DataFrame'>\n",
      "RangeIndex: 51 entries, 0 to 50\n",
      "Data columns (total 5 columns):\n",
      " #   Column          Non-Null Count  Dtype  \n",
      "---  ------          --------------  -----  \n",
      " 0   region          51 non-null     object \n",
      " 1   state           51 non-null     object \n",
      " 2   individuals     51 non-null     float64\n",
      " 3   family_members  51 non-null     float64\n",
      " 4   state_pop       51 non-null     int64  \n",
      "dtypes: float64(2), int64(1), object(2)\n",
      "memory usage: 2.1+ KB\n"
     ]
    }
   ],
   "source": [
    "homelessness.info()"
   ]
  },
  {
   "cell_type": "markdown",
   "id": "394c47ff-f9d4-4e01-a9e2-b6b794e88cff",
   "metadata": {},
   "source": [
    ".shape returns the number of rows and columns of the DataFrame"
   ]
  },
  {
   "cell_type": "code",
   "execution_count": 4,
   "id": "cc9cd172-333d-49d0-9eaf-98645bd7fd8b",
   "metadata": {},
   "outputs": [
    {
     "data": {
      "text/plain": [
       "(51, 5)"
      ]
     },
     "execution_count": 4,
     "metadata": {},
     "output_type": "execute_result"
    }
   ],
   "source": [
    "homelessness.shape"
   ]
  },
  {
   "cell_type": "markdown",
   "id": "87c030b4-3b0e-4e4a-b6c8-2f7afb5b7a93",
   "metadata": {},
   "source": [
    ".describe() calculates a few summary statistics for each column"
   ]
  },
  {
   "cell_type": "code",
   "execution_count": 5,
   "id": "9e457918-6ae2-4ff9-ae39-f853b86cdd60",
   "metadata": {},
   "outputs": [
    {
     "data": {
      "text/html": [
       "<div>\n",
       "<style scoped>\n",
       "    .dataframe tbody tr th:only-of-type {\n",
       "        vertical-align: middle;\n",
       "    }\n",
       "\n",
       "    .dataframe tbody tr th {\n",
       "        vertical-align: top;\n",
       "    }\n",
       "\n",
       "    .dataframe thead th {\n",
       "        text-align: right;\n",
       "    }\n",
       "</style>\n",
       "<table border=\"1\" class=\"dataframe\">\n",
       "  <thead>\n",
       "    <tr style=\"text-align: right;\">\n",
       "      <th></th>\n",
       "      <th>individuals</th>\n",
       "      <th>family_members</th>\n",
       "      <th>state_pop</th>\n",
       "    </tr>\n",
       "  </thead>\n",
       "  <tbody>\n",
       "    <tr>\n",
       "      <th>count</th>\n",
       "      <td>51.000000</td>\n",
       "      <td>51.000000</td>\n",
       "      <td>5.100000e+01</td>\n",
       "    </tr>\n",
       "    <tr>\n",
       "      <th>mean</th>\n",
       "      <td>7225.784314</td>\n",
       "      <td>3504.882353</td>\n",
       "      <td>6.405637e+06</td>\n",
       "    </tr>\n",
       "    <tr>\n",
       "      <th>std</th>\n",
       "      <td>15991.025083</td>\n",
       "      <td>7805.411811</td>\n",
       "      <td>7.327258e+06</td>\n",
       "    </tr>\n",
       "    <tr>\n",
       "      <th>min</th>\n",
       "      <td>434.000000</td>\n",
       "      <td>75.000000</td>\n",
       "      <td>5.776010e+05</td>\n",
       "    </tr>\n",
       "    <tr>\n",
       "      <th>25%</th>\n",
       "      <td>1446.500000</td>\n",
       "      <td>592.000000</td>\n",
       "      <td>1.777414e+06</td>\n",
       "    </tr>\n",
       "    <tr>\n",
       "      <th>50%</th>\n",
       "      <td>3082.000000</td>\n",
       "      <td>1482.000000</td>\n",
       "      <td>4.461153e+06</td>\n",
       "    </tr>\n",
       "    <tr>\n",
       "      <th>75%</th>\n",
       "      <td>6781.500000</td>\n",
       "      <td>3196.000000</td>\n",
       "      <td>7.340946e+06</td>\n",
       "    </tr>\n",
       "    <tr>\n",
       "      <th>max</th>\n",
       "      <td>109008.000000</td>\n",
       "      <td>52070.000000</td>\n",
       "      <td>3.946159e+07</td>\n",
       "    </tr>\n",
       "  </tbody>\n",
       "</table>\n",
       "</div>"
      ],
      "text/plain": [
       "         individuals  family_members     state_pop\n",
       "count      51.000000       51.000000  5.100000e+01\n",
       "mean     7225.784314     3504.882353  6.405637e+06\n",
       "std     15991.025083     7805.411811  7.327258e+06\n",
       "min       434.000000       75.000000  5.776010e+05\n",
       "25%      1446.500000      592.000000  1.777414e+06\n",
       "50%      3082.000000     1482.000000  4.461153e+06\n",
       "75%      6781.500000     3196.000000  7.340946e+06\n",
       "max    109008.000000    52070.000000  3.946159e+07"
      ]
     },
     "execution_count": 5,
     "metadata": {},
     "output_type": "execute_result"
    }
   ],
   "source": [
    "homelessness.describe()"
   ]
  },
  {
   "cell_type": "markdown",
   "id": "f60ddc9c-9570-4b7e-98af-5bcfa3d315d0",
   "metadata": {},
   "source": [
    "### Parts of a DataFrame\n",
    "\n",
    "A DataFrame contains 3 main attributes: `values`, which is a 2D NumPy array containing all the rows data, `columns`, an array with the column names, and `index`,  an array with the row labels"
   ]
  },
  {
   "cell_type": "code",
   "execution_count": 6,
   "id": "8ed21c30-444a-4fd6-a62b-4b650ceb94a8",
   "metadata": {},
   "outputs": [
    {
     "data": {
      "text/plain": [
       "array([['East South Central', 'Alabama', 2570.0, 864.0, 4887681],\n",
       "       ['Pacific', 'Alaska', 1434.0, 582.0, 735139],\n",
       "       ['Mountain', 'Arizona', 7259.0, 2606.0, 7158024],\n",
       "       ['West South Central', 'Arkansas', 2280.0, 432.0, 3009733],\n",
       "       ['Pacific', 'California', 109008.0, 20964.0, 39461588],\n",
       "       ['Mountain', 'Colorado', 7607.0, 3250.0, 5691287],\n",
       "       ['New England', 'Connecticut', 2280.0, 1696.0, 3571520],\n",
       "       ['South Atlantic', 'Delaware', 708.0, 374.0, 965479],\n",
       "       ['South Atlantic', 'District of Columbia', 3770.0, 3134.0, 701547],\n",
       "       ['South Atlantic', 'Florida', 21443.0, 9587.0, 21244317],\n",
       "       ['South Atlantic', 'Georgia', 6943.0, 2556.0, 10511131],\n",
       "       ['Pacific', 'Hawaii', 4131.0, 2399.0, 1420593],\n",
       "       ['Mountain', 'Idaho', 1297.0, 715.0, 1750536],\n",
       "       ['East North Central', 'Illinois', 6752.0, 3891.0, 12723071],\n",
       "       ['East North Central', 'Indiana', 3776.0, 1482.0, 6695497],\n",
       "       ['West North Central', 'Iowa', 1711.0, 1038.0, 3148618],\n",
       "       ['West North Central', 'Kansas', 1443.0, 773.0, 2911359],\n",
       "       ['East South Central', 'Kentucky', 2735.0, 953.0, 4461153],\n",
       "       ['West South Central', 'Louisiana', 2540.0, 519.0, 4659690],\n",
       "       ['New England', 'Maine', 1450.0, 1066.0, 1339057],\n",
       "       ['South Atlantic', 'Maryland', 4914.0, 2230.0, 6035802],\n",
       "       ['New England', 'Massachusetts', 6811.0, 13257.0, 6882635],\n",
       "       ['East North Central', 'Michigan', 5209.0, 3142.0, 9984072],\n",
       "       ['West North Central', 'Minnesota', 3993.0, 3250.0, 5606249],\n",
       "       ['East South Central', 'Mississippi', 1024.0, 328.0, 2981020],\n",
       "       ['West North Central', 'Missouri', 3776.0, 2107.0, 6121623],\n",
       "       ['Mountain', 'Montana', 983.0, 422.0, 1060665],\n",
       "       ['West North Central', 'Nebraska', 1745.0, 676.0, 1925614],\n",
       "       ['Mountain', 'Nevada', 7058.0, 486.0, 3027341],\n",
       "       ['New England', 'New Hampshire', 835.0, 615.0, 1353465],\n",
       "       ['Mid-Atlantic', 'New Jersey', 6048.0, 3350.0, 8886025],\n",
       "       ['Mountain', 'New Mexico', 1949.0, 602.0, 2092741],\n",
       "       ['Mid-Atlantic', 'New York', 39827.0, 52070.0, 19530351],\n",
       "       ['South Atlantic', 'North Carolina', 6451.0, 2817.0, 10381615],\n",
       "       ['West North Central', 'North Dakota', 467.0, 75.0, 758080],\n",
       "       ['East North Central', 'Ohio', 6929.0, 3320.0, 11676341],\n",
       "       ['West South Central', 'Oklahoma', 2823.0, 1048.0, 3940235],\n",
       "       ['Pacific', 'Oregon', 11139.0, 3337.0, 4181886],\n",
       "       ['Mid-Atlantic', 'Pennsylvania', 8163.0, 5349.0, 12800922],\n",
       "       ['New England', 'Rhode Island', 747.0, 354.0, 1058287],\n",
       "       ['South Atlantic', 'South Carolina', 3082.0, 851.0, 5084156],\n",
       "       ['West North Central', 'South Dakota', 836.0, 323.0, 878698],\n",
       "       ['East South Central', 'Tennessee', 6139.0, 1744.0, 6771631],\n",
       "       ['West South Central', 'Texas', 19199.0, 6111.0, 28628666],\n",
       "       ['Mountain', 'Utah', 1904.0, 972.0, 3153550],\n",
       "       ['New England', 'Vermont', 780.0, 511.0, 624358],\n",
       "       ['South Atlantic', 'Virginia', 3928.0, 2047.0, 8501286],\n",
       "       ['Pacific', 'Washington', 16424.0, 5880.0, 7523869],\n",
       "       ['South Atlantic', 'West Virginia', 1021.0, 222.0, 1804291],\n",
       "       ['East North Central', 'Wisconsin', 2740.0, 2167.0, 5807406],\n",
       "       ['Mountain', 'Wyoming', 434.0, 205.0, 577601]], dtype=object)"
      ]
     },
     "execution_count": 6,
     "metadata": {},
     "output_type": "execute_result"
    }
   ],
   "source": [
    "# Print the values of homelessness\n",
    "homelessness.values"
   ]
  },
  {
   "cell_type": "code",
   "execution_count": 7,
   "id": "4df7052a-45ff-48d6-82c9-d4302a929ed4",
   "metadata": {},
   "outputs": [
    {
     "data": {
      "text/plain": [
       "Index(['region', 'state', 'individuals', 'family_members', 'state_pop'], dtype='object')"
      ]
     },
     "execution_count": 7,
     "metadata": {},
     "output_type": "execute_result"
    }
   ],
   "source": [
    "# Print the column index of homelessness\n",
    "homelessness.columns"
   ]
  },
  {
   "cell_type": "code",
   "execution_count": 8,
   "id": "f07b4c34-06b3-47d2-8cf7-a0647f84f36a",
   "metadata": {},
   "outputs": [
    {
     "data": {
      "text/plain": [
       "RangeIndex(start=0, stop=51, step=1)"
      ]
     },
     "execution_count": 8,
     "metadata": {},
     "output_type": "execute_result"
    }
   ],
   "source": [
    "# Print the row index of homelessness\n",
    "homelessness.index"
   ]
  },
  {
   "cell_type": "markdown",
   "id": "c9da0c50-eec6-4e23-b2fd-ae42674fca03",
   "metadata": {},
   "source": [
    "### Sorting\n",
    "The method `sort_values` can be used to sort the DataFrame according to the given columns values"
   ]
  },
  {
   "cell_type": "markdown",
   "id": "66a96382-2d20-430c-adcf-01d12ea42de1",
   "metadata": {},
   "source": [
    "Sorting only by one column"
   ]
  },
  {
   "cell_type": "code",
   "execution_count": 9,
   "id": "47217109-8764-4b36-b38d-1e0900144e27",
   "metadata": {},
   "outputs": [
    {
     "data": {
      "text/html": [
       "<div>\n",
       "<style scoped>\n",
       "    .dataframe tbody tr th:only-of-type {\n",
       "        vertical-align: middle;\n",
       "    }\n",
       "\n",
       "    .dataframe tbody tr th {\n",
       "        vertical-align: top;\n",
       "    }\n",
       "\n",
       "    .dataframe thead th {\n",
       "        text-align: right;\n",
       "    }\n",
       "</style>\n",
       "<table border=\"1\" class=\"dataframe\">\n",
       "  <thead>\n",
       "    <tr style=\"text-align: right;\">\n",
       "      <th></th>\n",
       "      <th>region</th>\n",
       "      <th>state</th>\n",
       "      <th>individuals</th>\n",
       "      <th>family_members</th>\n",
       "      <th>state_pop</th>\n",
       "    </tr>\n",
       "  </thead>\n",
       "  <tbody>\n",
       "    <tr>\n",
       "      <th>50</th>\n",
       "      <td>Mountain</td>\n",
       "      <td>Wyoming</td>\n",
       "      <td>434.0</td>\n",
       "      <td>205.0</td>\n",
       "      <td>577601</td>\n",
       "    </tr>\n",
       "    <tr>\n",
       "      <th>34</th>\n",
       "      <td>West North Central</td>\n",
       "      <td>North Dakota</td>\n",
       "      <td>467.0</td>\n",
       "      <td>75.0</td>\n",
       "      <td>758080</td>\n",
       "    </tr>\n",
       "    <tr>\n",
       "      <th>7</th>\n",
       "      <td>South Atlantic</td>\n",
       "      <td>Delaware</td>\n",
       "      <td>708.0</td>\n",
       "      <td>374.0</td>\n",
       "      <td>965479</td>\n",
       "    </tr>\n",
       "    <tr>\n",
       "      <th>39</th>\n",
       "      <td>New England</td>\n",
       "      <td>Rhode Island</td>\n",
       "      <td>747.0</td>\n",
       "      <td>354.0</td>\n",
       "      <td>1058287</td>\n",
       "    </tr>\n",
       "    <tr>\n",
       "      <th>45</th>\n",
       "      <td>New England</td>\n",
       "      <td>Vermont</td>\n",
       "      <td>780.0</td>\n",
       "      <td>511.0</td>\n",
       "      <td>624358</td>\n",
       "    </tr>\n",
       "  </tbody>\n",
       "</table>\n",
       "</div>"
      ],
      "text/plain": [
       "                region         state  individuals  family_members  state_pop\n",
       "50            Mountain       Wyoming        434.0           205.0     577601\n",
       "34  West North Central  North Dakota        467.0            75.0     758080\n",
       "7       South Atlantic      Delaware        708.0           374.0     965479\n",
       "39         New England  Rhode Island        747.0           354.0    1058287\n",
       "45         New England       Vermont        780.0           511.0     624358"
      ]
     },
     "execution_count": 9,
     "metadata": {},
     "output_type": "execute_result"
    }
   ],
   "source": [
    "sorted_homelessness = homelessness.sort_values(\"individuals\")\n",
    "sorted_homelessness.head()"
   ]
  },
  {
   "cell_type": "markdown",
   "id": "b890aa54-a1ab-4afd-bee3-e47080379129",
   "metadata": {},
   "source": [
    "Sorting in descending order"
   ]
  },
  {
   "cell_type": "code",
   "execution_count": 10,
   "id": "b24cf4d7-9543-40c5-b1ba-bdf414d7632f",
   "metadata": {},
   "outputs": [
    {
     "data": {
      "text/html": [
       "<div>\n",
       "<style scoped>\n",
       "    .dataframe tbody tr th:only-of-type {\n",
       "        vertical-align: middle;\n",
       "    }\n",
       "\n",
       "    .dataframe tbody tr th {\n",
       "        vertical-align: top;\n",
       "    }\n",
       "\n",
       "    .dataframe thead th {\n",
       "        text-align: right;\n",
       "    }\n",
       "</style>\n",
       "<table border=\"1\" class=\"dataframe\">\n",
       "  <thead>\n",
       "    <tr style=\"text-align: right;\">\n",
       "      <th></th>\n",
       "      <th>region</th>\n",
       "      <th>state</th>\n",
       "      <th>individuals</th>\n",
       "      <th>family_members</th>\n",
       "      <th>state_pop</th>\n",
       "    </tr>\n",
       "  </thead>\n",
       "  <tbody>\n",
       "    <tr>\n",
       "      <th>4</th>\n",
       "      <td>Pacific</td>\n",
       "      <td>California</td>\n",
       "      <td>109008.0</td>\n",
       "      <td>20964.0</td>\n",
       "      <td>39461588</td>\n",
       "    </tr>\n",
       "    <tr>\n",
       "      <th>32</th>\n",
       "      <td>Mid-Atlantic</td>\n",
       "      <td>New York</td>\n",
       "      <td>39827.0</td>\n",
       "      <td>52070.0</td>\n",
       "      <td>19530351</td>\n",
       "    </tr>\n",
       "    <tr>\n",
       "      <th>9</th>\n",
       "      <td>South Atlantic</td>\n",
       "      <td>Florida</td>\n",
       "      <td>21443.0</td>\n",
       "      <td>9587.0</td>\n",
       "      <td>21244317</td>\n",
       "    </tr>\n",
       "    <tr>\n",
       "      <th>43</th>\n",
       "      <td>West South Central</td>\n",
       "      <td>Texas</td>\n",
       "      <td>19199.0</td>\n",
       "      <td>6111.0</td>\n",
       "      <td>28628666</td>\n",
       "    </tr>\n",
       "    <tr>\n",
       "      <th>47</th>\n",
       "      <td>Pacific</td>\n",
       "      <td>Washington</td>\n",
       "      <td>16424.0</td>\n",
       "      <td>5880.0</td>\n",
       "      <td>7523869</td>\n",
       "    </tr>\n",
       "  </tbody>\n",
       "</table>\n",
       "</div>"
      ],
      "text/plain": [
       "                region       state  individuals  family_members  state_pop\n",
       "4              Pacific  California     109008.0         20964.0   39461588\n",
       "32        Mid-Atlantic    New York      39827.0         52070.0   19530351\n",
       "9       South Atlantic     Florida      21443.0          9587.0   21244317\n",
       "43  West South Central       Texas      19199.0          6111.0   28628666\n",
       "47             Pacific  Washington      16424.0          5880.0    7523869"
      ]
     },
     "execution_count": 10,
     "metadata": {},
     "output_type": "execute_result"
    }
   ],
   "source": [
    "sorted_homelessness = homelessness.sort_values(\"individuals\", ascending = False)\n",
    "sorted_homelessness.head()"
   ]
  },
  {
   "cell_type": "markdown",
   "id": "8437e7dd-1359-4b6a-89ae-71eeddc7f0dc",
   "metadata": {},
   "source": [
    "Sorting by 2 or more columns"
   ]
  },
  {
   "cell_type": "code",
   "execution_count": 11,
   "id": "b479d44c-370c-4a5a-9bef-a3e88435e4cd",
   "metadata": {},
   "outputs": [
    {
     "data": {
      "text/html": [
       "<div>\n",
       "<style scoped>\n",
       "    .dataframe tbody tr th:only-of-type {\n",
       "        vertical-align: middle;\n",
       "    }\n",
       "\n",
       "    .dataframe tbody tr th {\n",
       "        vertical-align: top;\n",
       "    }\n",
       "\n",
       "    .dataframe thead th {\n",
       "        text-align: right;\n",
       "    }\n",
       "</style>\n",
       "<table border=\"1\" class=\"dataframe\">\n",
       "  <thead>\n",
       "    <tr style=\"text-align: right;\">\n",
       "      <th></th>\n",
       "      <th>region</th>\n",
       "      <th>state</th>\n",
       "      <th>individuals</th>\n",
       "      <th>family_members</th>\n",
       "      <th>state_pop</th>\n",
       "    </tr>\n",
       "  </thead>\n",
       "  <tbody>\n",
       "    <tr>\n",
       "      <th>13</th>\n",
       "      <td>East North Central</td>\n",
       "      <td>Illinois</td>\n",
       "      <td>6752.0</td>\n",
       "      <td>3891.0</td>\n",
       "      <td>12723071</td>\n",
       "    </tr>\n",
       "    <tr>\n",
       "      <th>35</th>\n",
       "      <td>East North Central</td>\n",
       "      <td>Ohio</td>\n",
       "      <td>6929.0</td>\n",
       "      <td>3320.0</td>\n",
       "      <td>11676341</td>\n",
       "    </tr>\n",
       "    <tr>\n",
       "      <th>22</th>\n",
       "      <td>East North Central</td>\n",
       "      <td>Michigan</td>\n",
       "      <td>5209.0</td>\n",
       "      <td>3142.0</td>\n",
       "      <td>9984072</td>\n",
       "    </tr>\n",
       "    <tr>\n",
       "      <th>49</th>\n",
       "      <td>East North Central</td>\n",
       "      <td>Wisconsin</td>\n",
       "      <td>2740.0</td>\n",
       "      <td>2167.0</td>\n",
       "      <td>5807406</td>\n",
       "    </tr>\n",
       "    <tr>\n",
       "      <th>14</th>\n",
       "      <td>East North Central</td>\n",
       "      <td>Indiana</td>\n",
       "      <td>3776.0</td>\n",
       "      <td>1482.0</td>\n",
       "      <td>6695497</td>\n",
       "    </tr>\n",
       "  </tbody>\n",
       "</table>\n",
       "</div>"
      ],
      "text/plain": [
       "                region      state  individuals  family_members  state_pop\n",
       "13  East North Central   Illinois       6752.0          3891.0   12723071\n",
       "35  East North Central       Ohio       6929.0          3320.0   11676341\n",
       "22  East North Central   Michigan       5209.0          3142.0    9984072\n",
       "49  East North Central  Wisconsin       2740.0          2167.0    5807406\n",
       "14  East North Central    Indiana       3776.0          1482.0    6695497"
      ]
     },
     "execution_count": 11,
     "metadata": {},
     "output_type": "execute_result"
    }
   ],
   "source": [
    "sorted_homelessness = homelessness.sort_values(\n",
    "    [\"region\", \"family_members\"],\n",
    "    ascending = [True, False]\n",
    ")\n",
    "\n",
    "sorted_homelessness.head()"
   ]
  },
  {
   "cell_type": "markdown",
   "id": "e8556cf1-ad72-40dd-a9c7-ddd70d3f8370",
   "metadata": {},
   "source": [
    "### Subsetting columns\n",
    "\n",
    "The single square brackets can be used to select the columns that are needed. A single column or a list of columns can be passed to the square brackets"
   ]
  },
  {
   "cell_type": "code",
   "execution_count": 12,
   "id": "2aa20e68-d784-46bb-a47b-9bec37880e9a",
   "metadata": {},
   "outputs": [
    {
     "data": {
      "text/plain": [
       "0      2570.0\n",
       "1      1434.0\n",
       "2      7259.0\n",
       "3      2280.0\n",
       "4    109008.0\n",
       "Name: individuals, dtype: float64"
      ]
     },
     "execution_count": 12,
     "metadata": {},
     "output_type": "execute_result"
    }
   ],
   "source": [
    "individuals = homelessness[\"individuals\"]\n",
    "individuals.head()"
   ]
  },
  {
   "cell_type": "code",
   "execution_count": 13,
   "id": "940e2180-6a23-4d6f-bebe-522f4795d42f",
   "metadata": {},
   "outputs": [
    {
     "data": {
      "text/html": [
       "<div>\n",
       "<style scoped>\n",
       "    .dataframe tbody tr th:only-of-type {\n",
       "        vertical-align: middle;\n",
       "    }\n",
       "\n",
       "    .dataframe tbody tr th {\n",
       "        vertical-align: top;\n",
       "    }\n",
       "\n",
       "    .dataframe thead th {\n",
       "        text-align: right;\n",
       "    }\n",
       "</style>\n",
       "<table border=\"1\" class=\"dataframe\">\n",
       "  <thead>\n",
       "    <tr style=\"text-align: right;\">\n",
       "      <th></th>\n",
       "      <th>state</th>\n",
       "      <th>family_members</th>\n",
       "    </tr>\n",
       "  </thead>\n",
       "  <tbody>\n",
       "    <tr>\n",
       "      <th>0</th>\n",
       "      <td>Alabama</td>\n",
       "      <td>864.0</td>\n",
       "    </tr>\n",
       "    <tr>\n",
       "      <th>1</th>\n",
       "      <td>Alaska</td>\n",
       "      <td>582.0</td>\n",
       "    </tr>\n",
       "    <tr>\n",
       "      <th>2</th>\n",
       "      <td>Arizona</td>\n",
       "      <td>2606.0</td>\n",
       "    </tr>\n",
       "    <tr>\n",
       "      <th>3</th>\n",
       "      <td>Arkansas</td>\n",
       "      <td>432.0</td>\n",
       "    </tr>\n",
       "    <tr>\n",
       "      <th>4</th>\n",
       "      <td>California</td>\n",
       "      <td>20964.0</td>\n",
       "    </tr>\n",
       "  </tbody>\n",
       "</table>\n",
       "</div>"
      ],
      "text/plain": [
       "        state  family_members\n",
       "0     Alabama           864.0\n",
       "1      Alaska           582.0\n",
       "2     Arizona          2606.0\n",
       "3    Arkansas           432.0\n",
       "4  California         20964.0"
      ]
     },
     "execution_count": 13,
     "metadata": {},
     "output_type": "execute_result"
    }
   ],
   "source": [
    "state_fam = homelessness[[\"state\", \"family_members\"]]\n",
    "state_fam.head()"
   ]
  },
  {
   "cell_type": "markdown",
   "id": "f626a1d3-65f4-4eb8-8706-3e5fd3807d56",
   "metadata": {},
   "source": [
    "Note that when passing a single string to the square brackets instead of a list, it will return a pandas Series, not a DataFrame. It's a bit different class"
   ]
  },
  {
   "cell_type": "markdown",
   "id": "28c53eda-b825-4c3e-bd69-459d02985d30",
   "metadata": {},
   "source": [
    "### Subsetting rows\n",
    "\n",
    "The square brackets can also be used to subset rows. The only difference is that you'll need to pass a Series of booleans that match the amount of rows, and the method will return all the rows that are mapped to `True` on the Series."
   ]
  },
  {
   "cell_type": "code",
   "execution_count": 14,
   "id": "e0d89058-1072-483f-8f7a-0c2b57fda6a7",
   "metadata": {},
   "outputs": [
    {
     "data": {
      "text/html": [
       "<div>\n",
       "<style scoped>\n",
       "    .dataframe tbody tr th:only-of-type {\n",
       "        vertical-align: middle;\n",
       "    }\n",
       "\n",
       "    .dataframe tbody tr th {\n",
       "        vertical-align: top;\n",
       "    }\n",
       "\n",
       "    .dataframe thead th {\n",
       "        text-align: right;\n",
       "    }\n",
       "</style>\n",
       "<table border=\"1\" class=\"dataframe\">\n",
       "  <thead>\n",
       "    <tr style=\"text-align: right;\">\n",
       "      <th></th>\n",
       "      <th>region</th>\n",
       "      <th>state</th>\n",
       "      <th>individuals</th>\n",
       "      <th>family_members</th>\n",
       "      <th>state_pop</th>\n",
       "    </tr>\n",
       "  </thead>\n",
       "  <tbody>\n",
       "    <tr>\n",
       "      <th>4</th>\n",
       "      <td>Pacific</td>\n",
       "      <td>California</td>\n",
       "      <td>109008.0</td>\n",
       "      <td>20964.0</td>\n",
       "      <td>39461588</td>\n",
       "    </tr>\n",
       "    <tr>\n",
       "      <th>9</th>\n",
       "      <td>South Atlantic</td>\n",
       "      <td>Florida</td>\n",
       "      <td>21443.0</td>\n",
       "      <td>9587.0</td>\n",
       "      <td>21244317</td>\n",
       "    </tr>\n",
       "    <tr>\n",
       "      <th>32</th>\n",
       "      <td>Mid-Atlantic</td>\n",
       "      <td>New York</td>\n",
       "      <td>39827.0</td>\n",
       "      <td>52070.0</td>\n",
       "      <td>19530351</td>\n",
       "    </tr>\n",
       "    <tr>\n",
       "      <th>37</th>\n",
       "      <td>Pacific</td>\n",
       "      <td>Oregon</td>\n",
       "      <td>11139.0</td>\n",
       "      <td>3337.0</td>\n",
       "      <td>4181886</td>\n",
       "    </tr>\n",
       "    <tr>\n",
       "      <th>43</th>\n",
       "      <td>West South Central</td>\n",
       "      <td>Texas</td>\n",
       "      <td>19199.0</td>\n",
       "      <td>6111.0</td>\n",
       "      <td>28628666</td>\n",
       "    </tr>\n",
       "    <tr>\n",
       "      <th>47</th>\n",
       "      <td>Pacific</td>\n",
       "      <td>Washington</td>\n",
       "      <td>16424.0</td>\n",
       "      <td>5880.0</td>\n",
       "      <td>7523869</td>\n",
       "    </tr>\n",
       "  </tbody>\n",
       "</table>\n",
       "</div>"
      ],
      "text/plain": [
       "                region       state  individuals  family_members  state_pop\n",
       "4              Pacific  California     109008.0         20964.0   39461588\n",
       "9       South Atlantic     Florida      21443.0          9587.0   21244317\n",
       "32        Mid-Atlantic    New York      39827.0         52070.0   19530351\n",
       "37             Pacific      Oregon      11139.0          3337.0    4181886\n",
       "43  West South Central       Texas      19199.0          6111.0   28628666\n",
       "47             Pacific  Washington      16424.0          5880.0    7523869"
      ]
     },
     "execution_count": 14,
     "metadata": {},
     "output_type": "execute_result"
    }
   ],
   "source": [
    "# Filter for rows where individuals is greater than 10000\n",
    "ind_gt_10k = homelessness[homelessness[\"individuals\"] > 10000]\n",
    "\n",
    "# See the result\n",
    "ind_gt_10k"
   ]
  },
  {
   "cell_type": "markdown",
   "id": "6be5389b-5f36-4d56-a7bb-972f646bcffc",
   "metadata": {},
   "source": [
    "Concatenating multiple conditions"
   ]
  },
  {
   "cell_type": "code",
   "execution_count": 15,
   "id": "e612c564-f538-45ea-acad-14a97442629f",
   "metadata": {},
   "outputs": [
    {
     "data": {
      "text/html": [
       "<div>\n",
       "<style scoped>\n",
       "    .dataframe tbody tr th:only-of-type {\n",
       "        vertical-align: middle;\n",
       "    }\n",
       "\n",
       "    .dataframe tbody tr th {\n",
       "        vertical-align: top;\n",
       "    }\n",
       "\n",
       "    .dataframe thead th {\n",
       "        text-align: right;\n",
       "    }\n",
       "</style>\n",
       "<table border=\"1\" class=\"dataframe\">\n",
       "  <thead>\n",
       "    <tr style=\"text-align: right;\">\n",
       "      <th></th>\n",
       "      <th>region</th>\n",
       "      <th>state</th>\n",
       "      <th>individuals</th>\n",
       "      <th>family_members</th>\n",
       "      <th>state_pop</th>\n",
       "    </tr>\n",
       "  </thead>\n",
       "  <tbody>\n",
       "    <tr>\n",
       "      <th>1</th>\n",
       "      <td>Pacific</td>\n",
       "      <td>Alaska</td>\n",
       "      <td>1434.0</td>\n",
       "      <td>582.0</td>\n",
       "      <td>735139</td>\n",
       "    </tr>\n",
       "  </tbody>\n",
       "</table>\n",
       "</div>"
      ],
      "text/plain": [
       "    region   state  individuals  family_members  state_pop\n",
       "1  Pacific  Alaska       1434.0           582.0     735139"
      ]
     },
     "execution_count": 15,
     "metadata": {},
     "output_type": "execute_result"
    }
   ],
   "source": [
    "# Filter for rows where family_members are less than 1000 AND region is Pacific\n",
    "fam_lt_1k_pac = homelessness[(homelessness[\"family_members\"] < 1000) & (homelessness[\"region\"] == \"Pacific\")]\n",
    "\n",
    "# See the result\n",
    "fam_lt_1k_pac"
   ]
  },
  {
   "cell_type": "code",
   "execution_count": 16,
   "id": "e6bf9ca2-07df-4f7b-a7b6-ef63ac5e3313",
   "metadata": {},
   "outputs": [
    {
     "data": {
      "text/html": [
       "<div>\n",
       "<style scoped>\n",
       "    .dataframe tbody tr th:only-of-type {\n",
       "        vertical-align: middle;\n",
       "    }\n",
       "\n",
       "    .dataframe tbody tr th {\n",
       "        vertical-align: top;\n",
       "    }\n",
       "\n",
       "    .dataframe thead th {\n",
       "        text-align: right;\n",
       "    }\n",
       "</style>\n",
       "<table border=\"1\" class=\"dataframe\">\n",
       "  <thead>\n",
       "    <tr style=\"text-align: right;\">\n",
       "      <th></th>\n",
       "      <th>region</th>\n",
       "      <th>state</th>\n",
       "      <th>individuals</th>\n",
       "      <th>family_members</th>\n",
       "      <th>state_pop</th>\n",
       "    </tr>\n",
       "  </thead>\n",
       "  <tbody>\n",
       "    <tr>\n",
       "      <th>0</th>\n",
       "      <td>East South Central</td>\n",
       "      <td>Alabama</td>\n",
       "      <td>2570.0</td>\n",
       "      <td>864.0</td>\n",
       "      <td>4887681</td>\n",
       "    </tr>\n",
       "    <tr>\n",
       "      <th>1</th>\n",
       "      <td>Pacific</td>\n",
       "      <td>Alaska</td>\n",
       "      <td>1434.0</td>\n",
       "      <td>582.0</td>\n",
       "      <td>735139</td>\n",
       "    </tr>\n",
       "    <tr>\n",
       "      <th>3</th>\n",
       "      <td>West South Central</td>\n",
       "      <td>Arkansas</td>\n",
       "      <td>2280.0</td>\n",
       "      <td>432.0</td>\n",
       "      <td>3009733</td>\n",
       "    </tr>\n",
       "    <tr>\n",
       "      <th>4</th>\n",
       "      <td>Pacific</td>\n",
       "      <td>California</td>\n",
       "      <td>109008.0</td>\n",
       "      <td>20964.0</td>\n",
       "      <td>39461588</td>\n",
       "    </tr>\n",
       "    <tr>\n",
       "      <th>7</th>\n",
       "      <td>South Atlantic</td>\n",
       "      <td>Delaware</td>\n",
       "      <td>708.0</td>\n",
       "      <td>374.0</td>\n",
       "      <td>965479</td>\n",
       "    </tr>\n",
       "  </tbody>\n",
       "</table>\n",
       "</div>"
      ],
      "text/plain": [
       "               region       state  individuals  family_members  state_pop\n",
       "0  East South Central     Alabama       2570.0           864.0    4887681\n",
       "1             Pacific      Alaska       1434.0           582.0     735139\n",
       "3  West South Central    Arkansas       2280.0           432.0    3009733\n",
       "4             Pacific  California     109008.0         20964.0   39461588\n",
       "7      South Atlantic    Delaware        708.0           374.0     965479"
      ]
     },
     "execution_count": 16,
     "metadata": {},
     "output_type": "execute_result"
    }
   ],
   "source": [
    "# Filter for rows where family_members are less than 1000 OR region is Pacific\n",
    "fam_lt_1k_pac = homelessness[(homelessness[\"family_members\"] < 1000) | (homelessness[\"region\"] == \"Pacific\")]\n",
    "\n",
    "# See the result\n",
    "fam_lt_1k_pac.head()"
   ]
  },
  {
   "cell_type": "markdown",
   "id": "03028d39-de66-4500-9b3e-c4b813600c72",
   "metadata": {},
   "source": [
    "Rows can also be subset by categorical variables, like this"
   ]
  },
  {
   "cell_type": "code",
   "execution_count": 17,
   "id": "91180291-91a3-442b-912b-fc2bace00d13",
   "metadata": {},
   "outputs": [
    {
     "data": {
      "text/html": [
       "<div>\n",
       "<style scoped>\n",
       "    .dataframe tbody tr th:only-of-type {\n",
       "        vertical-align: middle;\n",
       "    }\n",
       "\n",
       "    .dataframe tbody tr th {\n",
       "        vertical-align: top;\n",
       "    }\n",
       "\n",
       "    .dataframe thead th {\n",
       "        text-align: right;\n",
       "    }\n",
       "</style>\n",
       "<table border=\"1\" class=\"dataframe\">\n",
       "  <thead>\n",
       "    <tr style=\"text-align: right;\">\n",
       "      <th></th>\n",
       "      <th>region</th>\n",
       "      <th>state</th>\n",
       "      <th>individuals</th>\n",
       "      <th>family_members</th>\n",
       "      <th>state_pop</th>\n",
       "    </tr>\n",
       "  </thead>\n",
       "  <tbody>\n",
       "    <tr>\n",
       "      <th>7</th>\n",
       "      <td>South Atlantic</td>\n",
       "      <td>Delaware</td>\n",
       "      <td>708.0</td>\n",
       "      <td>374.0</td>\n",
       "      <td>965479</td>\n",
       "    </tr>\n",
       "    <tr>\n",
       "      <th>8</th>\n",
       "      <td>South Atlantic</td>\n",
       "      <td>District of Columbia</td>\n",
       "      <td>3770.0</td>\n",
       "      <td>3134.0</td>\n",
       "      <td>701547</td>\n",
       "    </tr>\n",
       "    <tr>\n",
       "      <th>9</th>\n",
       "      <td>South Atlantic</td>\n",
       "      <td>Florida</td>\n",
       "      <td>21443.0</td>\n",
       "      <td>9587.0</td>\n",
       "      <td>21244317</td>\n",
       "    </tr>\n",
       "    <tr>\n",
       "      <th>10</th>\n",
       "      <td>South Atlantic</td>\n",
       "      <td>Georgia</td>\n",
       "      <td>6943.0</td>\n",
       "      <td>2556.0</td>\n",
       "      <td>10511131</td>\n",
       "    </tr>\n",
       "    <tr>\n",
       "      <th>20</th>\n",
       "      <td>South Atlantic</td>\n",
       "      <td>Maryland</td>\n",
       "      <td>4914.0</td>\n",
       "      <td>2230.0</td>\n",
       "      <td>6035802</td>\n",
       "    </tr>\n",
       "    <tr>\n",
       "      <th>30</th>\n",
       "      <td>Mid-Atlantic</td>\n",
       "      <td>New Jersey</td>\n",
       "      <td>6048.0</td>\n",
       "      <td>3350.0</td>\n",
       "      <td>8886025</td>\n",
       "    </tr>\n",
       "    <tr>\n",
       "      <th>32</th>\n",
       "      <td>Mid-Atlantic</td>\n",
       "      <td>New York</td>\n",
       "      <td>39827.0</td>\n",
       "      <td>52070.0</td>\n",
       "      <td>19530351</td>\n",
       "    </tr>\n",
       "    <tr>\n",
       "      <th>33</th>\n",
       "      <td>South Atlantic</td>\n",
       "      <td>North Carolina</td>\n",
       "      <td>6451.0</td>\n",
       "      <td>2817.0</td>\n",
       "      <td>10381615</td>\n",
       "    </tr>\n",
       "    <tr>\n",
       "      <th>38</th>\n",
       "      <td>Mid-Atlantic</td>\n",
       "      <td>Pennsylvania</td>\n",
       "      <td>8163.0</td>\n",
       "      <td>5349.0</td>\n",
       "      <td>12800922</td>\n",
       "    </tr>\n",
       "    <tr>\n",
       "      <th>40</th>\n",
       "      <td>South Atlantic</td>\n",
       "      <td>South Carolina</td>\n",
       "      <td>3082.0</td>\n",
       "      <td>851.0</td>\n",
       "      <td>5084156</td>\n",
       "    </tr>\n",
       "    <tr>\n",
       "      <th>46</th>\n",
       "      <td>South Atlantic</td>\n",
       "      <td>Virginia</td>\n",
       "      <td>3928.0</td>\n",
       "      <td>2047.0</td>\n",
       "      <td>8501286</td>\n",
       "    </tr>\n",
       "    <tr>\n",
       "      <th>48</th>\n",
       "      <td>South Atlantic</td>\n",
       "      <td>West Virginia</td>\n",
       "      <td>1021.0</td>\n",
       "      <td>222.0</td>\n",
       "      <td>1804291</td>\n",
       "    </tr>\n",
       "  </tbody>\n",
       "</table>\n",
       "</div>"
      ],
      "text/plain": [
       "            region                 state  individuals  family_members  \\\n",
       "7   South Atlantic              Delaware        708.0           374.0   \n",
       "8   South Atlantic  District of Columbia       3770.0          3134.0   \n",
       "9   South Atlantic               Florida      21443.0          9587.0   \n",
       "10  South Atlantic               Georgia       6943.0          2556.0   \n",
       "20  South Atlantic              Maryland       4914.0          2230.0   \n",
       "30    Mid-Atlantic            New Jersey       6048.0          3350.0   \n",
       "32    Mid-Atlantic              New York      39827.0         52070.0   \n",
       "33  South Atlantic        North Carolina       6451.0          2817.0   \n",
       "38    Mid-Atlantic          Pennsylvania       8163.0          5349.0   \n",
       "40  South Atlantic        South Carolina       3082.0           851.0   \n",
       "46  South Atlantic              Virginia       3928.0          2047.0   \n",
       "48  South Atlantic         West Virginia       1021.0           222.0   \n",
       "\n",
       "    state_pop  \n",
       "7      965479  \n",
       "8      701547  \n",
       "9    21244317  \n",
       "10   10511131  \n",
       "20    6035802  \n",
       "30    8886025  \n",
       "32   19530351  \n",
       "33   10381615  \n",
       "38   12800922  \n",
       "40    5084156  \n",
       "46    8501286  \n",
       "48    1804291  "
      ]
     },
     "execution_count": 17,
     "metadata": {},
     "output_type": "execute_result"
    }
   ],
   "source": [
    "# Subset for rows in South Atlantic or Mid-Atlantic regions\n",
    "south_mid_atlantic = homelessness[homelessness[\"region\"].isin([\"South Atlantic\", \"Mid-Atlantic\"])]\n",
    "\n",
    "# See the result\n",
    "south_mid_atlantic"
   ]
  },
  {
   "cell_type": "markdown",
   "id": "987b5f5e-aceb-425f-a6b1-d465381d9826",
   "metadata": {},
   "source": [
    "### Adding new columns\n",
    "\n",
    "The assignment operator (`=`) can be used to create a new column or modifying an existing one"
   ]
  },
  {
   "cell_type": "code",
   "execution_count": 19,
   "id": "a2d8f7b6-0c54-4782-86be-9bcdef57e861",
   "metadata": {},
   "outputs": [
    {
     "data": {
      "text/html": [
       "<div>\n",
       "<style scoped>\n",
       "    .dataframe tbody tr th:only-of-type {\n",
       "        vertical-align: middle;\n",
       "    }\n",
       "\n",
       "    .dataframe tbody tr th {\n",
       "        vertical-align: top;\n",
       "    }\n",
       "\n",
       "    .dataframe thead th {\n",
       "        text-align: right;\n",
       "    }\n",
       "</style>\n",
       "<table border=\"1\" class=\"dataframe\">\n",
       "  <thead>\n",
       "    <tr style=\"text-align: right;\">\n",
       "      <th></th>\n",
       "      <th>region</th>\n",
       "      <th>state</th>\n",
       "      <th>individuals</th>\n",
       "      <th>family_members</th>\n",
       "      <th>state_pop</th>\n",
       "      <th>total</th>\n",
       "      <th>p_individuals</th>\n",
       "    </tr>\n",
       "  </thead>\n",
       "  <tbody>\n",
       "    <tr>\n",
       "      <th>0</th>\n",
       "      <td>East South Central</td>\n",
       "      <td>Alabama</td>\n",
       "      <td>2570.0</td>\n",
       "      <td>864.0</td>\n",
       "      <td>4887681</td>\n",
       "      <td>3434.0</td>\n",
       "      <td>0.748398</td>\n",
       "    </tr>\n",
       "    <tr>\n",
       "      <th>1</th>\n",
       "      <td>Pacific</td>\n",
       "      <td>Alaska</td>\n",
       "      <td>1434.0</td>\n",
       "      <td>582.0</td>\n",
       "      <td>735139</td>\n",
       "      <td>2016.0</td>\n",
       "      <td>0.711310</td>\n",
       "    </tr>\n",
       "    <tr>\n",
       "      <th>2</th>\n",
       "      <td>Mountain</td>\n",
       "      <td>Arizona</td>\n",
       "      <td>7259.0</td>\n",
       "      <td>2606.0</td>\n",
       "      <td>7158024</td>\n",
       "      <td>9865.0</td>\n",
       "      <td>0.735834</td>\n",
       "    </tr>\n",
       "    <tr>\n",
       "      <th>3</th>\n",
       "      <td>West South Central</td>\n",
       "      <td>Arkansas</td>\n",
       "      <td>2280.0</td>\n",
       "      <td>432.0</td>\n",
       "      <td>3009733</td>\n",
       "      <td>2712.0</td>\n",
       "      <td>0.840708</td>\n",
       "    </tr>\n",
       "    <tr>\n",
       "      <th>4</th>\n",
       "      <td>Pacific</td>\n",
       "      <td>California</td>\n",
       "      <td>109008.0</td>\n",
       "      <td>20964.0</td>\n",
       "      <td>39461588</td>\n",
       "      <td>129972.0</td>\n",
       "      <td>0.838704</td>\n",
       "    </tr>\n",
       "  </tbody>\n",
       "</table>\n",
       "</div>"
      ],
      "text/plain": [
       "               region       state  individuals  family_members  state_pop  \\\n",
       "0  East South Central     Alabama       2570.0           864.0    4887681   \n",
       "1             Pacific      Alaska       1434.0           582.0     735139   \n",
       "2            Mountain     Arizona       7259.0          2606.0    7158024   \n",
       "3  West South Central    Arkansas       2280.0           432.0    3009733   \n",
       "4             Pacific  California     109008.0         20964.0   39461588   \n",
       "\n",
       "      total  p_individuals  \n",
       "0    3434.0       0.748398  \n",
       "1    2016.0       0.711310  \n",
       "2    9865.0       0.735834  \n",
       "3    2712.0       0.840708  \n",
       "4  129972.0       0.838704  "
      ]
     },
     "execution_count": 19,
     "metadata": {},
     "output_type": "execute_result"
    }
   ],
   "source": [
    "# Add total col as sum of individuals and family_members\n",
    "homelessness[\"total\"] = homelessness[\"individuals\"] + homelessness[\"family_members\"]\n",
    "\n",
    "# Add p_individuals col as proportion of total that are individuals\n",
    "homelessness[\"p_individuals\"] = homelessness[\"individuals\"] / homelessness[\"total\"]\n",
    "\n",
    "# See the result\n",
    "homelessness.head()"
   ]
  },
  {
   "cell_type": "code",
   "execution_count": null,
   "id": "2d00a4e2-3ca9-443c-ad47-788acf406ad5",
   "metadata": {},
   "outputs": [],
   "source": []
  }
 ],
 "metadata": {
  "kernelspec": {
   "display_name": "Python 3 (ipykernel)",
   "language": "python",
   "name": "python3"
  },
  "language_info": {
   "codemirror_mode": {
    "name": "ipython",
    "version": 3
   },
   "file_extension": ".py",
   "mimetype": "text/x-python",
   "name": "python",
   "nbconvert_exporter": "python",
   "pygments_lexer": "ipython3",
   "version": "3.9.13"
  }
 },
 "nbformat": 4,
 "nbformat_minor": 5
}
